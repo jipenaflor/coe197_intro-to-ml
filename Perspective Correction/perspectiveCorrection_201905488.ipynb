{
 "cells": [
  {
   "cell_type": "markdown",
   "id": "abea2338",
   "metadata": {},
   "source": [
    "**Learning Objective:**\n",
    "Learn how to apply linear mapping concepts on removing projective distortion\n",
    "\n",
    "**Problem:**\n",
    "When an image is taken by the camera, there is an inherent projective distortion. This makes rectangular objects appear distorted. However, this projective distortion can be reversed if we know the 3x3 matrix that maps from projective to affine (frontal no distortion). \n",
    "\n",
    "Using our knowledge on linear mapping and least squares estimation, develop a program that will remove the projective distortion on a given image. Note that at least 4 pts on the target undistorted image must be known."
   ]
  },
  {
   "cell_type": "code",
   "execution_count": 1,
   "id": "cfea03c2",
   "metadata": {},
   "outputs": [],
   "source": [
    "import numpy as np\n",
    "import cv2"
   ]
  },
  {
   "cell_type": "code",
   "execution_count": 2,
   "id": "1c9990a4",
   "metadata": {},
   "outputs": [],
   "source": [
    "# function to get the four points of the distorted image clicked (by mouse) by the user\n",
    "def selectSource(event, x, y, flags, param):\n",
    "    global src, orig \n",
    "    if event == cv2.EVENT_LBUTTONDOWN:\n",
    "        if len(src) < 4:\n",
    "            cv2.circle(orig , (x, y), 5, (255, 0, 0), -1)\n",
    "            if len(src) > 0:\n",
    "                cv2.line(orig, (x, y), (src[-1][0], src[-1][1]), (255, 0, 0), 3)\n",
    "            src.append([x, y])\n",
    "        \n",
    "        if len(src) == 4:\n",
    "            cv2.line(orig, (src[-1][0], src[-1][1]), (src[0][0], src[0][1]), (255, 0, 0), 3)"
   ]
  },
  {
   "cell_type": "code",
   "execution_count": 3,
   "id": "03205a73",
   "metadata": {},
   "outputs": [],
   "source": [
    "# function to compute for the homography that maps from projective to affine\n",
    "def getHomography(src, dst):\n",
    "    A = []\n",
    "    for i in range(0, len(src)):\n",
    "        x, y = src[i][0], src[i][1]\n",
    "        u, v = dst[i][0], dst[i][1]\n",
    "        A.append([-x, -y, -1, 0, 0, 0, u * x, u * y, u])\n",
    "        A.append([0, 0, 0, -x, -y, -1, v * x, v * y, v])\n",
    "    lastRow = [0, 0, 0, 0, 0, 0, 0, 0, 1]\n",
    "    A.append(lastRow)\n",
    "    A = np.asarray(A)\n",
    "    hvec = np.vstack(lastRow)\n",
    "    H = np.matmul(np.linalg.inv(A), hvec)\n",
    "    H = H.reshape(3,3)\n",
    "    return H"
   ]
  },
  {
   "cell_type": "code",
   "execution_count": 12,
   "id": "c9b80ff5",
   "metadata": {},
   "outputs": [],
   "source": [
    "# function for image mapping (not used)\n",
    "def projectiveToAffine(height, width, image, homography):\n",
    "    \n",
    "    #empty image\n",
    "    transformed = np.zeros_like(image)\n",
    "\n",
    "    for i in range(height):\n",
    "        for j in range(width):\n",
    "            k = np.array([i, j, 1])\n",
    "            dst = np.dot(homography, k)\n",
    "            dst = dst / dst[-1]\n",
    "            i_dst, j_dst = round(dst[0]), round(dst[1])\n",
    "            if 0 <= i_dst < height and 0 <= j_dst < width:\n",
    "                transformed[i_dst, j_dst] = image[i, j]\n",
    "    return transformed"
   ]
  },
  {
   "cell_type": "markdown",
   "id": "c9841472",
   "metadata": {},
   "source": [
    "**Main.** Change the *'test1.png'* to the filename of the distorted image *(should be on the same folder as this program)* of your choice. The program reads and displays this input image from the user. From there, select the section of the image you want to map to affine by clicking four points **_(clockwise, starting from top left)_** in the image. By clicking the **'r' key**, you can restart the selection of points; by clicking **'esc'** key, you can exit from the displayed window. After you select a section, click the **'t' key** so that the program displays the undistorted version of the image."
   ]
  },
  {
   "cell_type": "code",
   "execution_count": 55,
   "id": "ca90bd6e",
   "metadata": {},
   "outputs": [],
   "source": [
    "src = []\n",
    "\n",
    "orig = cv2.imread(r'test1.png')\n",
    "#orig = cv2.imread(r'test2.png')\n",
    "\n",
    "try:\n",
    "    if orig.shape[0] > 700 and orig.shape[1] > 700:\n",
    "        orig = cv2.resize(orig, (0,0), fx = 0.35, fy = 0.35)\n",
    "except Exception as e:\n",
    "    print(str(e))\n",
    "    \n",
    "clone = orig.copy()\n",
    "h, w = orig.shape[:2]\n",
    "dst = [[0,0], [w-1, 0], [w-1, h-1], [0, h-1]]\n",
    "\n",
    "cv2.namedWindow('Original Image')\n",
    "cv2.setMouseCallback('Original Image', selectSource)\n",
    "\n",
    "while(1):\n",
    "    cv2.imshow('Original Image', orig)\n",
    "    key = cv2.waitKey(1) & 0xFF\n",
    "    if key == ord('t'):\n",
    "        H = getHomography(src, dst)\n",
    "        transformed = cv2.warpPerspective(clone, H, (w, h), flags=cv2.INTER_AREA)\n",
    "        cv2.imshow('Corrected Image', transformed)\n",
    "        cv2.waitKey(0)\n",
    "        cv2.destroyAllWindows()\n",
    "        break\n",
    "    elif key == ord('r'):    #restart source points\n",
    "        orig = clone.copy()\n",
    "        src = []\n",
    "    elif key == 27:    #press Esc to exit\n",
    "        break\n",
    "cv2.destroyAllWindows()"
   ]
  },
  {
   "cell_type": "code",
   "execution_count": null,
   "id": "685f3e21",
   "metadata": {},
   "outputs": [],
   "source": []
  }
 ],
 "metadata": {
  "kernelspec": {
   "display_name": "Python 3 (ipykernel)",
   "language": "python",
   "name": "python3"
  },
  "language_info": {
   "codemirror_mode": {
    "name": "ipython",
    "version": 3
   },
   "file_extension": ".py",
   "mimetype": "text/x-python",
   "name": "python",
   "nbconvert_exporter": "python",
   "pygments_lexer": "ipython3",
   "version": "3.8.8"
  }
 },
 "nbformat": 4,
 "nbformat_minor": 5
}
