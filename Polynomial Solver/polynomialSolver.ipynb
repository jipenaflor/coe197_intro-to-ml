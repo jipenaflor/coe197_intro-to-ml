{
 "cells": [
  {
   "cell_type": "markdown",
   "id": "0120ab01",
   "metadata": {},
   "source": [
    "**Objective:**\n",
    "SGD is a useful algorithm with many applications. In this assignment, we will use SGD in the TinyGrad framework as polynomial solver - to find the degree and coefficients.\n",
    "\n",
    "Usage: *python3 solver.py*\n",
    "\n",
    "The solver will use data_train.csv to estimate the degree and coefficients of a polynomial. To test the generalization of the learned function, it should have small test error on data_test.csv.\n",
    "\n",
    "The function should be modeled using tinygrad : https://github.com/geohot/tinygrad\n",
    "\n",
    "Use SGD to learn the polynomial coefficients."
   ]
  },
  {
   "cell_type": "code",
   "execution_count": 112,
   "id": "6249a693",
   "metadata": {},
   "outputs": [],
   "source": [
    "from tinygrad.tensor import Tensor\n",
    "import tinygrad.nn.optim as optim\n",
    "import matplotlib.pyplot as plt\n",
    "import pandas as pd\n",
    "import numpy as np"
   ]
  },
  {
   "cell_type": "code",
   "execution_count": 98,
   "id": "cd8405ba",
   "metadata": {},
   "outputs": [],
   "source": [
    "def plotter(data, label=['train']):\n",
    "    \"\"\" \n",
    "    Plots data. \n",
    "    Copied from Machine-Learning-Helper\n",
    "    \n",
    "    \"\"\"\n",
    "    \n",
    "    for d,l in zip(data, label):\n",
    "        x, y = d\n",
    "        plt.scatter(x, y, label=l)\n",
    "    \n",
    "    plt.legend()\n",
    "    plt.xlabel('$x$')\n",
    "    plt.ylabel('$y$')\n",
    "    \n",
    "    plt.show()"
   ]
  },
  {
   "cell_type": "code",
   "execution_count": 99,
   "id": "5ea0b9c5",
   "metadata": {},
   "outputs": [],
   "source": [
    "def calc_loss(y_pred, y_gt):\n",
    "    \"\"\"\n",
    "    Calculate the MAE loss. MAE loss function is used since there are little to no outliers.\n",
    "    \n",
    "    Input/s:\n",
    "        y_pred : predicted y of model\n",
    "        y_gt   : ground truth y\n",
    "        \n",
    "    \"\"\"\n",
    "    mae = abs((y_pred-y_gt)).mean()\n",
    "    return mae"
   ]
  },
  {
   "cell_type": "code",
   "execution_count": 100,
   "id": "3088477a",
   "metadata": {},
   "outputs": [],
   "source": [
    "class polynomial:\n",
    "    \"\"\"Polynomial model.\"\"\"\n",
    "    def __init__(self):\n",
    "        np.random.seed(42)\n",
    "        self.preds = np.random.rand(5)\n",
    "        self.a = Tensor([self.preds[0]], requires_grad = True)\n",
    "        self.b = Tensor([self.preds[1]], requires_grad = True)\n",
    "        self.c = Tensor([self.preds[2]], requires_grad = True)\n",
    "        self.d = Tensor([self.preds[3]], requires_grad = True)\n",
    "        self.e = Tensor([self.preds[4]], requires_grad = True)\n",
    "\n",
    "    def forward(self, x):\n",
    "        return self.a*(x**4) + self.b*(x**3) + self.c*(x**2) + self.d*x + self.e"
   ]
  },
  {
   "cell_type": "code",
   "execution_count": 101,
   "id": "66ac84dd",
   "metadata": {},
   "outputs": [],
   "source": [
    "def get_coeff(model):\n",
    "    \"\"\"\n",
    "    Get the coefficients of the model.\n",
    "    \n",
    "    \"\"\"\n",
    "    \n",
    "    param = optim.get_parameters(model)\n",
    "    coeff = []\n",
    "    for i in param:\n",
    "        coeff.append(i.data)\n",
    "    coeff = np.concatenate(coeff, axis=None)\n",
    "    return coeff"
   ]
  },
  {
   "cell_type": "code",
   "execution_count": 102,
   "id": "d907fe5c",
   "metadata": {},
   "outputs": [],
   "source": [
    "#gets data from data_test.csv and data_train.csv\n",
    "data_test = pd.read_csv('data_test.csv')\n",
    "data_train = pd.read_csv('data_train.csv')\n",
    "x_train = Tensor([data_train.x])\n",
    "y_train = Tensor([data_train.y])"
   ]
  },
  {
   "cell_type": "code",
   "execution_count": 109,
   "id": "896be7a5",
   "metadata": {
    "scrolled": true
   },
   "outputs": [],
   "source": [
    "#initialize the model\n",
    "model = polynomial()\n",
    "\n",
    "#optimization\n",
    "optimizer = optim.SGD([model.a, model.b, model.c, model.d, model.e], lr = 0.0001)\n",
    "\n",
    "for epoch in range(1500):\n",
    "    out = model.forward(x_train)\n",
    "    error = y_train - out\n",
    "    loss = error.abs().mean()\n",
    "\n",
    "    optimizer.zero_grad()\n",
    "    loss.backward()\n",
    "\n",
    "    optimizer.clipnorm(5)\n",
    "    optimizer.step()"
   ]
  },
  {
   "cell_type": "code",
   "execution_count": 110,
   "id": "8d746b74",
   "metadata": {},
   "outputs": [
    {
     "data": {
      "image/png": "[encoded data removed]",
      "text/plain": [
       "<Figure size 432x288 with 1 Axes>"
      ]
     },
     "metadata": {
      "needs_background": "light"
     },
     "output_type": "display_data"
    },
    {
     "name": "stdout",
     "output_type": "stream",
     "text": [
      "Train loss: 37.33773788633716\n"
     ]
    }
   ],
   "source": [
    "# y predictions of model vs y of train data\n",
    "coeff = get_coeff(model)\n",
    "X = data_train.x\n",
    "Y = coeff[0]*(X**4) + coeff[1]*(X**3) + coeff[2]*(X**2) + coeff[3]*X + coeff[4]\n",
    "plotter([[data_train.x, data_train.y], [X, Y]], label=['train', 'model'])\n",
    "train_loss = calc_loss(Y, data_train.y)\n",
    "print(f\"Train loss: {train_loss}\")"
   ]
  },
  {
   "cell_type": "code",
   "execution_count": 111,
   "id": "338d1d63",
   "metadata": {
    "scrolled": false
   },
   "outputs": [
    {
     "data": {
      "image/png": "[encoded data removed]",
      "text/plain": [
       "<Figure size 432x288 with 1 Axes>"
      ]
     },
     "metadata": {
      "needs_background": "light"
     },
     "output_type": "display_data"
    },
    {
     "name": "stdout",
     "output_type": "stream",
     "text": [
      "Test loss: 9497.383678674334\n"
     ]
    }
   ],
   "source": [
    "# y predictions of model vs y of test data\n",
    "X = data_test.x\n",
    "Y = coeff[0]*(X**4) + coeff[1]*(X**3) + coeff[2]*(X**2) + coeff[3]*X + coeff[4]\n",
    "plotter([[data_test.x, data_test.y], [X, Y]], label=['test', 'model'])\n",
    "test_loss = calc_loss(Y, data_test.y)\n",
    "print(f\"Test loss: {test_loss}\")"
   ]
  },
  {
   "cell_type": "code",
   "execution_count": null,
   "id": "cc34c33c",
   "metadata": {},
   "outputs": [],
   "source": []
  }
 ],
 "metadata": {
  "kernelspec": {
   "display_name": "Python 3 (ipykernel)",
   "language": "python",
   "name": "python3"
  },
  "language_info": {
   "codemirror_mode": {
    "name": "ipython",
    "version": 3
   },
   "file_extension": ".py",
   "mimetype": "text/x-python",
   "name": "python",
   "nbconvert_exporter": "python",
   "pygments_lexer": "ipython3",
   "version": "3.8.8"
  }
 },
 "nbformat": 4,
 "nbformat_minor": 5
}
